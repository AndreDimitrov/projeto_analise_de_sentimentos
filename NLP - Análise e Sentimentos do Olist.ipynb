{
 "cells": [
  {
   "cell_type": "markdown",
   "metadata": {},
   "source": [
    "## Importar Bibliotecas"
   ]
  },
  {
   "cell_type": "code",
   "execution_count": 3,
   "metadata": {},
   "outputs": [
    {
     "name": "stdout",
     "output_type": "stream",
     "text": [
      "✔ Download and installation successful\n",
      "You can now load the package via spacy.load('pt_core_news_sm')\n"
     ]
    }
   ],
   "source": [
    "import pandas as pd\n",
    "import numpy as np\n",
    "import matplotlib.pyplot as plt\n",
    "import re\n",
    "import nltk\n",
    "import spacy\n",
    "import seaborn as sns\n",
    "\n",
    "%matplotlib inline\n",
    "\n",
    "import spacy.cli\n",
    "spacy.cli.download(\"pt_core_news_sm\")"
   ]
  },
  {
   "cell_type": "code",
   "execution_count": 2,
   "metadata": {},
   "outputs": [],
   "source": [
    "import pt_core_news_sm\n",
    "\n",
    "spc_pt = pt_core_news_sm.load()"
   ]
  },
  {
   "cell_type": "markdown",
   "metadata": {},
   "source": [
    "### Carregar o Dataset"
   ]
  },
  {
   "cell_type": "code",
   "execution_count": 3,
   "metadata": {},
   "outputs": [],
   "source": [
    "data = pd.read_csv('olist_order_reviews_dataset.csv')"
   ]
  },
  {
   "cell_type": "code",
   "execution_count": 4,
   "metadata": {},
   "outputs": [
    {
     "data": {
      "text/html": [
       "<div>\n",
       "<style scoped>\n",
       "    .dataframe tbody tr th:only-of-type {\n",
       "        vertical-align: middle;\n",
       "    }\n",
       "\n",
       "    .dataframe tbody tr th {\n",
       "        vertical-align: top;\n",
       "    }\n",
       "\n",
       "    .dataframe thead th {\n",
       "        text-align: right;\n",
       "    }\n",
       "</style>\n",
       "<table border=\"1\" class=\"dataframe\">\n",
       "  <thead>\n",
       "    <tr style=\"text-align: right;\">\n",
       "      <th></th>\n",
       "      <th>review_id</th>\n",
       "      <th>order_id</th>\n",
       "      <th>review_score</th>\n",
       "      <th>review_comment_title</th>\n",
       "      <th>review_comment_message</th>\n",
       "      <th>review_creation_date</th>\n",
       "      <th>review_answer_timestamp</th>\n",
       "    </tr>\n",
       "  </thead>\n",
       "  <tbody>\n",
       "    <tr>\n",
       "      <th>0</th>\n",
       "      <td>7bc2406110b926393aa56f80a40eba40</td>\n",
       "      <td>73fc7af87114b39712e6da79b0a377eb</td>\n",
       "      <td>4</td>\n",
       "      <td>NaN</td>\n",
       "      <td>NaN</td>\n",
       "      <td>2018-01-18 00:00:00</td>\n",
       "      <td>2018-01-18 21:46:59</td>\n",
       "    </tr>\n",
       "    <tr>\n",
       "      <th>1</th>\n",
       "      <td>80e641a11e56f04c1ad469d5645fdfde</td>\n",
       "      <td>a548910a1c6147796b98fdf73dbeba33</td>\n",
       "      <td>5</td>\n",
       "      <td>NaN</td>\n",
       "      <td>NaN</td>\n",
       "      <td>2018-03-10 00:00:00</td>\n",
       "      <td>2018-03-11 03:05:13</td>\n",
       "    </tr>\n",
       "    <tr>\n",
       "      <th>2</th>\n",
       "      <td>228ce5500dc1d8e020d8d1322874b6f0</td>\n",
       "      <td>f9e4b658b201a9f2ecdecbb34bed034b</td>\n",
       "      <td>5</td>\n",
       "      <td>NaN</td>\n",
       "      <td>NaN</td>\n",
       "      <td>2018-02-17 00:00:00</td>\n",
       "      <td>2018-02-18 14:36:24</td>\n",
       "    </tr>\n",
       "    <tr>\n",
       "      <th>3</th>\n",
       "      <td>e64fb393e7b32834bb789ff8bb30750e</td>\n",
       "      <td>658677c97b385a9be170737859d3511b</td>\n",
       "      <td>5</td>\n",
       "      <td>NaN</td>\n",
       "      <td>Recebi bem antes do prazo estipulado.</td>\n",
       "      <td>2017-04-21 00:00:00</td>\n",
       "      <td>2017-04-21 22:02:06</td>\n",
       "    </tr>\n",
       "    <tr>\n",
       "      <th>4</th>\n",
       "      <td>f7c4243c7fe1938f181bec41a392bdeb</td>\n",
       "      <td>8e6bfb81e283fa7e4f11123a3fb894f1</td>\n",
       "      <td>5</td>\n",
       "      <td>NaN</td>\n",
       "      <td>Parabéns lojas lannister adorei comprar pela I...</td>\n",
       "      <td>2018-03-01 00:00:00</td>\n",
       "      <td>2018-03-02 10:26:53</td>\n",
       "    </tr>\n",
       "  </tbody>\n",
       "</table>\n",
       "</div>"
      ],
      "text/plain": [
       "                          review_id                          order_id  \\\n",
       "0  7bc2406110b926393aa56f80a40eba40  73fc7af87114b39712e6da79b0a377eb   \n",
       "1  80e641a11e56f04c1ad469d5645fdfde  a548910a1c6147796b98fdf73dbeba33   \n",
       "2  228ce5500dc1d8e020d8d1322874b6f0  f9e4b658b201a9f2ecdecbb34bed034b   \n",
       "3  e64fb393e7b32834bb789ff8bb30750e  658677c97b385a9be170737859d3511b   \n",
       "4  f7c4243c7fe1938f181bec41a392bdeb  8e6bfb81e283fa7e4f11123a3fb894f1   \n",
       "\n",
       "   review_score review_comment_title  \\\n",
       "0             4                  NaN   \n",
       "1             5                  NaN   \n",
       "2             5                  NaN   \n",
       "3             5                  NaN   \n",
       "4             5                  NaN   \n",
       "\n",
       "                              review_comment_message review_creation_date  \\\n",
       "0                                                NaN  2018-01-18 00:00:00   \n",
       "1                                                NaN  2018-03-10 00:00:00   \n",
       "2                                                NaN  2018-02-17 00:00:00   \n",
       "3              Recebi bem antes do prazo estipulado.  2017-04-21 00:00:00   \n",
       "4  Parabéns lojas lannister adorei comprar pela I...  2018-03-01 00:00:00   \n",
       "\n",
       "  review_answer_timestamp  \n",
       "0     2018-01-18 21:46:59  \n",
       "1     2018-03-11 03:05:13  \n",
       "2     2018-02-18 14:36:24  \n",
       "3     2017-04-21 22:02:06  \n",
       "4     2018-03-02 10:26:53  "
      ]
     },
     "execution_count": 4,
     "metadata": {},
     "output_type": "execute_result"
    }
   ],
   "source": [
    "data.head()"
   ]
  },
  {
   "cell_type": "markdown",
   "metadata": {},
   "source": [
    "### Limpeza dos dados"
   ]
  },
  {
   "cell_type": "code",
   "execution_count": 5,
   "metadata": {},
   "outputs": [],
   "source": [
    "data.drop(['order_id', 'review_creation_date', 'review_answer_timestamp'], inplace=True, axis=1)"
   ]
  },
  {
   "cell_type": "code",
   "execution_count": 6,
   "metadata": {},
   "outputs": [
    {
     "data": {
      "text/html": [
       "<div>\n",
       "<style scoped>\n",
       "    .dataframe tbody tr th:only-of-type {\n",
       "        vertical-align: middle;\n",
       "    }\n",
       "\n",
       "    .dataframe tbody tr th {\n",
       "        vertical-align: top;\n",
       "    }\n",
       "\n",
       "    .dataframe thead th {\n",
       "        text-align: right;\n",
       "    }\n",
       "</style>\n",
       "<table border=\"1\" class=\"dataframe\">\n",
       "  <thead>\n",
       "    <tr style=\"text-align: right;\">\n",
       "      <th></th>\n",
       "      <th>review_id</th>\n",
       "      <th>review_score</th>\n",
       "      <th>review_comment_title</th>\n",
       "      <th>review_comment_message</th>\n",
       "    </tr>\n",
       "  </thead>\n",
       "  <tbody>\n",
       "    <tr>\n",
       "      <th>0</th>\n",
       "      <td>7bc2406110b926393aa56f80a40eba40</td>\n",
       "      <td>4</td>\n",
       "      <td>NaN</td>\n",
       "      <td>NaN</td>\n",
       "    </tr>\n",
       "    <tr>\n",
       "      <th>1</th>\n",
       "      <td>80e641a11e56f04c1ad469d5645fdfde</td>\n",
       "      <td>5</td>\n",
       "      <td>NaN</td>\n",
       "      <td>NaN</td>\n",
       "    </tr>\n",
       "    <tr>\n",
       "      <th>2</th>\n",
       "      <td>228ce5500dc1d8e020d8d1322874b6f0</td>\n",
       "      <td>5</td>\n",
       "      <td>NaN</td>\n",
       "      <td>NaN</td>\n",
       "    </tr>\n",
       "    <tr>\n",
       "      <th>3</th>\n",
       "      <td>e64fb393e7b32834bb789ff8bb30750e</td>\n",
       "      <td>5</td>\n",
       "      <td>NaN</td>\n",
       "      <td>Recebi bem antes do prazo estipulado.</td>\n",
       "    </tr>\n",
       "    <tr>\n",
       "      <th>4</th>\n",
       "      <td>f7c4243c7fe1938f181bec41a392bdeb</td>\n",
       "      <td>5</td>\n",
       "      <td>NaN</td>\n",
       "      <td>Parabéns lojas lannister adorei comprar pela I...</td>\n",
       "    </tr>\n",
       "    <tr>\n",
       "      <th>...</th>\n",
       "      <td>...</td>\n",
       "      <td>...</td>\n",
       "      <td>...</td>\n",
       "      <td>...</td>\n",
       "    </tr>\n",
       "    <tr>\n",
       "      <th>99995</th>\n",
       "      <td>f3897127253a9592a73be9bdfdf4ed7a</td>\n",
       "      <td>5</td>\n",
       "      <td>NaN</td>\n",
       "      <td>NaN</td>\n",
       "    </tr>\n",
       "    <tr>\n",
       "      <th>99996</th>\n",
       "      <td>b3de70c89b1510c4cd3d0649fd302472</td>\n",
       "      <td>5</td>\n",
       "      <td>NaN</td>\n",
       "      <td>Excelente mochila, entrega super rápida. Super...</td>\n",
       "    </tr>\n",
       "    <tr>\n",
       "      <th>99997</th>\n",
       "      <td>1adeb9d84d72fe4e337617733eb85149</td>\n",
       "      <td>4</td>\n",
       "      <td>NaN</td>\n",
       "      <td>NaN</td>\n",
       "    </tr>\n",
       "    <tr>\n",
       "      <th>99998</th>\n",
       "      <td>be360f18f5df1e0541061c87021e6d93</td>\n",
       "      <td>1</td>\n",
       "      <td>NaN</td>\n",
       "      <td>Solicitei a compra de uma capa de retrovisor c...</td>\n",
       "    </tr>\n",
       "    <tr>\n",
       "      <th>99999</th>\n",
       "      <td>efe49f1d6f951dd88b51e6ccd4cc548f</td>\n",
       "      <td>1</td>\n",
       "      <td>NaN</td>\n",
       "      <td>meu produto chegou e ja tenho que devolver, po...</td>\n",
       "    </tr>\n",
       "  </tbody>\n",
       "</table>\n",
       "<p>100000 rows × 4 columns</p>\n",
       "</div>"
      ],
      "text/plain": [
       "                              review_id  review_score review_comment_title  \\\n",
       "0      7bc2406110b926393aa56f80a40eba40             4                  NaN   \n",
       "1      80e641a11e56f04c1ad469d5645fdfde             5                  NaN   \n",
       "2      228ce5500dc1d8e020d8d1322874b6f0             5                  NaN   \n",
       "3      e64fb393e7b32834bb789ff8bb30750e             5                  NaN   \n",
       "4      f7c4243c7fe1938f181bec41a392bdeb             5                  NaN   \n",
       "...                                 ...           ...                  ...   \n",
       "99995  f3897127253a9592a73be9bdfdf4ed7a             5                  NaN   \n",
       "99996  b3de70c89b1510c4cd3d0649fd302472             5                  NaN   \n",
       "99997  1adeb9d84d72fe4e337617733eb85149             4                  NaN   \n",
       "99998  be360f18f5df1e0541061c87021e6d93             1                  NaN   \n",
       "99999  efe49f1d6f951dd88b51e6ccd4cc548f             1                  NaN   \n",
       "\n",
       "                                  review_comment_message  \n",
       "0                                                    NaN  \n",
       "1                                                    NaN  \n",
       "2                                                    NaN  \n",
       "3                  Recebi bem antes do prazo estipulado.  \n",
       "4      Parabéns lojas lannister adorei comprar pela I...  \n",
       "...                                                  ...  \n",
       "99995                                                NaN  \n",
       "99996  Excelente mochila, entrega super rápida. Super...  \n",
       "99997                                                NaN  \n",
       "99998  Solicitei a compra de uma capa de retrovisor c...  \n",
       "99999  meu produto chegou e ja tenho que devolver, po...  \n",
       "\n",
       "[100000 rows x 4 columns]"
      ]
     },
     "execution_count": 6,
     "metadata": {},
     "output_type": "execute_result"
    }
   ],
   "source": [
    "data"
   ]
  },
  {
   "cell_type": "code",
   "execution_count": 8,
   "metadata": {},
   "outputs": [
    {
     "name": "stdout",
     "output_type": "stream",
     "text": [
      "<class 'pandas.core.frame.DataFrame'>\n",
      "RangeIndex: 100000 entries, 0 to 99999\n",
      "Data columns (total 4 columns):\n",
      " #   Column                  Non-Null Count   Dtype \n",
      "---  ------                  --------------   ----- \n",
      " 0   review_id               100000 non-null  object\n",
      " 1   review_score            100000 non-null  int64 \n",
      " 2   review_comment_title    11715 non-null   object\n",
      " 3   review_comment_message  41753 non-null   object\n",
      "dtypes: int64(1), object(3)\n",
      "memory usage: 3.1+ MB\n"
     ]
    }
   ],
   "source": [
    "data.info()"
   ]
  },
  {
   "cell_type": "markdown",
   "metadata": {},
   "source": [
    "### Verificando duplicados"
   ]
  },
  {
   "cell_type": "code",
   "execution_count": 26,
   "metadata": {},
   "outputs": [
    {
     "data": {
      "text/plain": [
       "22324    0.001\n",
       "97035    0.001\n",
       "89893    0.001\n",
       "63033    0.001\n",
       "77518    0.001\n",
       "         ...  \n",
       "66406    0.000\n",
       "66407    0.000\n",
       "66408    0.000\n",
       "66409    0.000\n",
       "0        0.000\n",
       "Length: 100000, dtype: float64"
      ]
     },
     "execution_count": 26,
     "metadata": {},
     "output_type": "execute_result"
    }
   ],
   "source": [
    "# ((data.duplicated()/data.shape[0]).sort_values(ascending=False))*100\n",
    "(data.duplicated()/data.shape[0]*100).sort_values(ascending=False)"
   ]
  },
  {
   "cell_type": "code",
   "execution_count": 10,
   "metadata": {},
   "outputs": [
    {
     "name": "stdout",
     "output_type": "stream",
     "text": [
      "Reviews com id duplicados: 0.83%.\n"
     ]
    }
   ],
   "source": [
    "duplicados = round(sum(data.duplicated(\"review_id\"))/(len(data))*100, 2)\n",
    "print(f\"Reviews com id duplicados: {duplicados}%.\")"
   ]
  },
  {
   "cell_type": "code",
   "execution_count": 35,
   "metadata": {},
   "outputs": [
    {
     "data": {
      "text/html": [
       "<div>\n",
       "<style scoped>\n",
       "    .dataframe tbody tr th:only-of-type {\n",
       "        vertical-align: middle;\n",
       "    }\n",
       "\n",
       "    .dataframe tbody tr th {\n",
       "        vertical-align: top;\n",
       "    }\n",
       "\n",
       "    .dataframe thead th {\n",
       "        text-align: right;\n",
       "    }\n",
       "</style>\n",
       "<table border=\"1\" class=\"dataframe\">\n",
       "  <thead>\n",
       "    <tr style=\"text-align: right;\">\n",
       "      <th></th>\n",
       "      <th>review_id</th>\n",
       "      <th>review_score</th>\n",
       "      <th>review_comment_title</th>\n",
       "      <th>review_comment_message</th>\n",
       "    </tr>\n",
       "  </thead>\n",
       "  <tbody>\n",
       "    <tr>\n",
       "      <th>47045</th>\n",
       "      <td>00130cbe1f9d422698c812ed8ded1919</td>\n",
       "      <td>1</td>\n",
       "      <td>NaN</td>\n",
       "      <td>O cartucho \"original HP\" 60XL não é reconhecid...</td>\n",
       "    </tr>\n",
       "    <tr>\n",
       "      <th>30062</th>\n",
       "      <td>00130cbe1f9d422698c812ed8ded1919</td>\n",
       "      <td>1</td>\n",
       "      <td>NaN</td>\n",
       "      <td>O cartucho \"original HP\" 60XL não é reconhecid...</td>\n",
       "    </tr>\n",
       "    <tr>\n",
       "      <th>63695</th>\n",
       "      <td>0115633a9c298b6a98bcbe4eee75345f</td>\n",
       "      <td>5</td>\n",
       "      <td>NaN</td>\n",
       "      <td>NaN</td>\n",
       "    </tr>\n",
       "    <tr>\n",
       "      <th>91399</th>\n",
       "      <td>0115633a9c298b6a98bcbe4eee75345f</td>\n",
       "      <td>5</td>\n",
       "      <td>NaN</td>\n",
       "      <td>NaN</td>\n",
       "    </tr>\n",
       "    <tr>\n",
       "      <th>57727</th>\n",
       "      <td>0174caf0ee5964646040cd94e15ac95e</td>\n",
       "      <td>1</td>\n",
       "      <td>NaN</td>\n",
       "      <td>Produto entregue dentro de embalagem do fornec...</td>\n",
       "    </tr>\n",
       "    <tr>\n",
       "      <th>...</th>\n",
       "      <td>...</td>\n",
       "      <td>...</td>\n",
       "      <td>...</td>\n",
       "      <td>...</td>\n",
       "    </tr>\n",
       "    <tr>\n",
       "      <th>40677</th>\n",
       "      <td>fe5c833752953fed3209646f1f63b53c</td>\n",
       "      <td>1</td>\n",
       "      <td>NaN</td>\n",
       "      <td>Comprei dois produtos e ambos, mesmo enviados ...</td>\n",
       "    </tr>\n",
       "    <tr>\n",
       "      <th>7924</th>\n",
       "      <td>ff2fc9e68f8aabfbe18d710b83aabd30</td>\n",
       "      <td>2</td>\n",
       "      <td>NaN</td>\n",
       "      <td>NaN</td>\n",
       "    </tr>\n",
       "    <tr>\n",
       "      <th>83183</th>\n",
       "      <td>ff2fc9e68f8aabfbe18d710b83aabd30</td>\n",
       "      <td>2</td>\n",
       "      <td>NaN</td>\n",
       "      <td>NaN</td>\n",
       "    </tr>\n",
       "    <tr>\n",
       "      <th>1997</th>\n",
       "      <td>ffb8cff872a625632ac983eb1f88843c</td>\n",
       "      <td>3</td>\n",
       "      <td>NaN</td>\n",
       "      <td>NaN</td>\n",
       "    </tr>\n",
       "    <tr>\n",
       "      <th>74551</th>\n",
       "      <td>ffb8cff872a625632ac983eb1f88843c</td>\n",
       "      <td>3</td>\n",
       "      <td>NaN</td>\n",
       "      <td>NaN</td>\n",
       "    </tr>\n",
       "  </tbody>\n",
       "</table>\n",
       "<p>1629 rows × 4 columns</p>\n",
       "</div>"
      ],
      "text/plain": [
       "                              review_id  review_score review_comment_title  \\\n",
       "47045  00130cbe1f9d422698c812ed8ded1919             1                  NaN   \n",
       "30062  00130cbe1f9d422698c812ed8ded1919             1                  NaN   \n",
       "63695  0115633a9c298b6a98bcbe4eee75345f             5                  NaN   \n",
       "91399  0115633a9c298b6a98bcbe4eee75345f             5                  NaN   \n",
       "57727  0174caf0ee5964646040cd94e15ac95e             1                  NaN   \n",
       "...                                 ...           ...                  ...   \n",
       "40677  fe5c833752953fed3209646f1f63b53c             1                  NaN   \n",
       "7924   ff2fc9e68f8aabfbe18d710b83aabd30             2                  NaN   \n",
       "83183  ff2fc9e68f8aabfbe18d710b83aabd30             2                  NaN   \n",
       "1997   ffb8cff872a625632ac983eb1f88843c             3                  NaN   \n",
       "74551  ffb8cff872a625632ac983eb1f88843c             3                  NaN   \n",
       "\n",
       "                                  review_comment_message  \n",
       "47045  O cartucho \"original HP\" 60XL não é reconhecid...  \n",
       "30062  O cartucho \"original HP\" 60XL não é reconhecid...  \n",
       "63695                                                NaN  \n",
       "91399                                                NaN  \n",
       "57727  Produto entregue dentro de embalagem do fornec...  \n",
       "...                                                  ...  \n",
       "40677  Comprei dois produtos e ambos, mesmo enviados ...  \n",
       "7924                                                 NaN  \n",
       "83183                                                NaN  \n",
       "1997                                                 NaN  \n",
       "74551                                                NaN  \n",
       "\n",
       "[1629 rows x 4 columns]"
      ]
     },
     "execution_count": 35,
     "metadata": {},
     "output_type": "execute_result"
    }
   ],
   "source": [
    "data[data.duplicated(\"review_id\", keep=False)].sort_values(by=\"review_id\")"
   ]
  },
  {
   "cell_type": "code",
   "execution_count": 36,
   "metadata": {},
   "outputs": [],
   "source": [
    "data.drop_duplicates(\"review_id\", inplace=True)"
   ]
  },
  {
   "cell_type": "code",
   "execution_count": 13,
   "metadata": {},
   "outputs": [],
   "source": [
    "data.fillna('', inplace=True) # para não termos problemas com nulos na concatenação"
   ]
  },
  {
   "cell_type": "code",
   "execution_count": 14,
   "metadata": {},
   "outputs": [],
   "source": [
    "# concatenando duas colunas\n",
    "data['review'] = data['review_comment_title'] + ' ' + data['review_comment_message']"
   ]
  },
  {
   "cell_type": "code",
   "execution_count": 44,
   "metadata": {},
   "outputs": [
    {
     "data": {
      "text/html": [
       "<div>\n",
       "<style scoped>\n",
       "    .dataframe tbody tr th:only-of-type {\n",
       "        vertical-align: middle;\n",
       "    }\n",
       "\n",
       "    .dataframe tbody tr th {\n",
       "        vertical-align: top;\n",
       "    }\n",
       "\n",
       "    .dataframe thead th {\n",
       "        text-align: right;\n",
       "    }\n",
       "</style>\n",
       "<table border=\"1\" class=\"dataframe\">\n",
       "  <thead>\n",
       "    <tr style=\"text-align: right;\">\n",
       "      <th></th>\n",
       "      <th>review_id</th>\n",
       "      <th>review_score</th>\n",
       "      <th>review_comment_title</th>\n",
       "      <th>review_comment_message</th>\n",
       "      <th>review</th>\n",
       "    </tr>\n",
       "  </thead>\n",
       "  <tbody>\n",
       "    <tr>\n",
       "      <th>0</th>\n",
       "      <td>7bc2406110b926393aa56f80a40eba40</td>\n",
       "      <td>4</td>\n",
       "      <td></td>\n",
       "      <td></td>\n",
       "      <td></td>\n",
       "    </tr>\n",
       "    <tr>\n",
       "      <th>1</th>\n",
       "      <td>80e641a11e56f04c1ad469d5645fdfde</td>\n",
       "      <td>5</td>\n",
       "      <td></td>\n",
       "      <td></td>\n",
       "      <td></td>\n",
       "    </tr>\n",
       "    <tr>\n",
       "      <th>2</th>\n",
       "      <td>228ce5500dc1d8e020d8d1322874b6f0</td>\n",
       "      <td>5</td>\n",
       "      <td></td>\n",
       "      <td></td>\n",
       "      <td></td>\n",
       "    </tr>\n",
       "    <tr>\n",
       "      <th>3</th>\n",
       "      <td>e64fb393e7b32834bb789ff8bb30750e</td>\n",
       "      <td>5</td>\n",
       "      <td></td>\n",
       "      <td>Recebi bem antes do prazo estipulado.</td>\n",
       "      <td>Recebi bem antes do prazo estipulado.</td>\n",
       "    </tr>\n",
       "    <tr>\n",
       "      <th>4</th>\n",
       "      <td>f7c4243c7fe1938f181bec41a392bdeb</td>\n",
       "      <td>5</td>\n",
       "      <td></td>\n",
       "      <td>Parabéns lojas lannister adorei comprar pela I...</td>\n",
       "      <td>Parabéns lojas lannister adorei comprar pela ...</td>\n",
       "    </tr>\n",
       "    <tr>\n",
       "      <th>...</th>\n",
       "      <td>...</td>\n",
       "      <td>...</td>\n",
       "      <td>...</td>\n",
       "      <td>...</td>\n",
       "      <td>...</td>\n",
       "    </tr>\n",
       "    <tr>\n",
       "      <th>99995</th>\n",
       "      <td>f3897127253a9592a73be9bdfdf4ed7a</td>\n",
       "      <td>5</td>\n",
       "      <td></td>\n",
       "      <td></td>\n",
       "      <td></td>\n",
       "    </tr>\n",
       "    <tr>\n",
       "      <th>99996</th>\n",
       "      <td>b3de70c89b1510c4cd3d0649fd302472</td>\n",
       "      <td>5</td>\n",
       "      <td></td>\n",
       "      <td>Excelente mochila, entrega super rápida. Super...</td>\n",
       "      <td>Excelente mochila, entrega super rápida. Supe...</td>\n",
       "    </tr>\n",
       "    <tr>\n",
       "      <th>99997</th>\n",
       "      <td>1adeb9d84d72fe4e337617733eb85149</td>\n",
       "      <td>4</td>\n",
       "      <td></td>\n",
       "      <td></td>\n",
       "      <td></td>\n",
       "    </tr>\n",
       "    <tr>\n",
       "      <th>99998</th>\n",
       "      <td>be360f18f5df1e0541061c87021e6d93</td>\n",
       "      <td>1</td>\n",
       "      <td></td>\n",
       "      <td>Solicitei a compra de uma capa de retrovisor c...</td>\n",
       "      <td>Solicitei a compra de uma capa de retrovisor ...</td>\n",
       "    </tr>\n",
       "    <tr>\n",
       "      <th>99999</th>\n",
       "      <td>efe49f1d6f951dd88b51e6ccd4cc548f</td>\n",
       "      <td>1</td>\n",
       "      <td></td>\n",
       "      <td>meu produto chegou e ja tenho que devolver, po...</td>\n",
       "      <td>meu produto chegou e ja tenho que devolver, p...</td>\n",
       "    </tr>\n",
       "  </tbody>\n",
       "</table>\n",
       "<p>99173 rows × 5 columns</p>\n",
       "</div>"
      ],
      "text/plain": [
       "                              review_id  review_score review_comment_title  \\\n",
       "0      7bc2406110b926393aa56f80a40eba40             4                        \n",
       "1      80e641a11e56f04c1ad469d5645fdfde             5                        \n",
       "2      228ce5500dc1d8e020d8d1322874b6f0             5                        \n",
       "3      e64fb393e7b32834bb789ff8bb30750e             5                        \n",
       "4      f7c4243c7fe1938f181bec41a392bdeb             5                        \n",
       "...                                 ...           ...                  ...   \n",
       "99995  f3897127253a9592a73be9bdfdf4ed7a             5                        \n",
       "99996  b3de70c89b1510c4cd3d0649fd302472             5                        \n",
       "99997  1adeb9d84d72fe4e337617733eb85149             4                        \n",
       "99998  be360f18f5df1e0541061c87021e6d93             1                        \n",
       "99999  efe49f1d6f951dd88b51e6ccd4cc548f             1                        \n",
       "\n",
       "                                  review_comment_message  \\\n",
       "0                                                          \n",
       "1                                                          \n",
       "2                                                          \n",
       "3                  Recebi bem antes do prazo estipulado.   \n",
       "4      Parabéns lojas lannister adorei comprar pela I...   \n",
       "...                                                  ...   \n",
       "99995                                                      \n",
       "99996  Excelente mochila, entrega super rápida. Super...   \n",
       "99997                                                      \n",
       "99998  Solicitei a compra de uma capa de retrovisor c...   \n",
       "99999  meu produto chegou e ja tenho que devolver, po...   \n",
       "\n",
       "                                                  review  \n",
       "0                                                         \n",
       "1                                                         \n",
       "2                                                         \n",
       "3                  Recebi bem antes do prazo estipulado.  \n",
       "4       Parabéns lojas lannister adorei comprar pela ...  \n",
       "...                                                  ...  \n",
       "99995                                                     \n",
       "99996   Excelente mochila, entrega super rápida. Supe...  \n",
       "99997                                                     \n",
       "99998   Solicitei a compra de uma capa de retrovisor ...  \n",
       "99999   meu produto chegou e ja tenho que devolver, p...  \n",
       "\n",
       "[99173 rows x 5 columns]"
      ]
     },
     "execution_count": 44,
     "metadata": {},
     "output_type": "execute_result"
    }
   ],
   "source": [
    "data"
   ]
  },
  {
   "cell_type": "code",
   "execution_count": 16,
   "metadata": {},
   "outputs": [],
   "source": [
    "# removendo entradas sem texto\n",
    "data = data[data['review']!=' ']"
   ]
  },
  {
   "cell_type": "code",
   "execution_count": 99,
   "metadata": {},
   "outputs": [
    {
     "data": {
      "text/html": [
       "<div>\n",
       "<style scoped>\n",
       "    .dataframe tbody tr th:only-of-type {\n",
       "        vertical-align: middle;\n",
       "    }\n",
       "\n",
       "    .dataframe tbody tr th {\n",
       "        vertical-align: top;\n",
       "    }\n",
       "\n",
       "    .dataframe thead th {\n",
       "        text-align: right;\n",
       "    }\n",
       "</style>\n",
       "<table border=\"1\" class=\"dataframe\">\n",
       "  <thead>\n",
       "    <tr style=\"text-align: right;\">\n",
       "      <th></th>\n",
       "      <th>review_id</th>\n",
       "      <th>review_score</th>\n",
       "      <th>review_comment_title</th>\n",
       "      <th>review_comment_message</th>\n",
       "      <th>review</th>\n",
       "    </tr>\n",
       "  </thead>\n",
       "  <tbody>\n",
       "    <tr>\n",
       "      <th>3</th>\n",
       "      <td>e64fb393e7b32834bb789ff8bb30750e</td>\n",
       "      <td>5</td>\n",
       "      <td></td>\n",
       "      <td>Recebi bem antes do prazo estipulado.</td>\n",
       "      <td>Recebi bem antes do prazo estipulado.</td>\n",
       "    </tr>\n",
       "    <tr>\n",
       "      <th>4</th>\n",
       "      <td>f7c4243c7fe1938f181bec41a392bdeb</td>\n",
       "      <td>5</td>\n",
       "      <td></td>\n",
       "      <td>Parabéns lojas lannister adorei comprar pela I...</td>\n",
       "      <td>Parabéns lojas lannister adorei comprar pela ...</td>\n",
       "    </tr>\n",
       "    <tr>\n",
       "      <th>9</th>\n",
       "      <td>8670d52e15e00043ae7de4c01cc2fe06</td>\n",
       "      <td>4</td>\n",
       "      <td>recomendo</td>\n",
       "      <td>aparelho eficiente. no site a marca do aparelh...</td>\n",
       "      <td>recomendo aparelho eficiente. no site a marca ...</td>\n",
       "    </tr>\n",
       "    <tr>\n",
       "      <th>12</th>\n",
       "      <td>4b49719c8a200003f700d3d986ea1a19</td>\n",
       "      <td>4</td>\n",
       "      <td></td>\n",
       "      <td>Mas um pouco ,travando...pelo valor ta Boa.\\r\\n</td>\n",
       "      <td>Mas um pouco ,travando...pelo valor ta Boa.\\r\\n</td>\n",
       "    </tr>\n",
       "    <tr>\n",
       "      <th>15</th>\n",
       "      <td>3948b09f7c818e2d86c9a546758b2335</td>\n",
       "      <td>5</td>\n",
       "      <td>Super recomendo</td>\n",
       "      <td>Vendedor confiável, produto ok e entrega antes...</td>\n",
       "      <td>Super recomendo Vendedor confiável, produto ok...</td>\n",
       "    </tr>\n",
       "    <tr>\n",
       "      <th>...</th>\n",
       "      <td>...</td>\n",
       "      <td>...</td>\n",
       "      <td>...</td>\n",
       "      <td>...</td>\n",
       "      <td>...</td>\n",
       "    </tr>\n",
       "    <tr>\n",
       "      <th>99983</th>\n",
       "      <td>df5fae90e85354241d5d64a8955b2b09</td>\n",
       "      <td>5</td>\n",
       "      <td></td>\n",
       "      <td>Entregou dentro do prazo. O produto chegou em ...</td>\n",
       "      <td>Entregou dentro do prazo. O produto chegou em...</td>\n",
       "    </tr>\n",
       "    <tr>\n",
       "      <th>99990</th>\n",
       "      <td>a709d176f59bc3af77f4149c96bae357</td>\n",
       "      <td>3</td>\n",
       "      <td></td>\n",
       "      <td>O produto não foi enviado com NF, não existe v...</td>\n",
       "      <td>O produto não foi enviado com NF, não existe ...</td>\n",
       "    </tr>\n",
       "    <tr>\n",
       "      <th>99996</th>\n",
       "      <td>b3de70c89b1510c4cd3d0649fd302472</td>\n",
       "      <td>5</td>\n",
       "      <td></td>\n",
       "      <td>Excelente mochila, entrega super rápida. Super...</td>\n",
       "      <td>Excelente mochila, entrega super rápida. Supe...</td>\n",
       "    </tr>\n",
       "    <tr>\n",
       "      <th>99998</th>\n",
       "      <td>be360f18f5df1e0541061c87021e6d93</td>\n",
       "      <td>1</td>\n",
       "      <td></td>\n",
       "      <td>Solicitei a compra de uma capa de retrovisor c...</td>\n",
       "      <td>Solicitei a compra de uma capa de retrovisor ...</td>\n",
       "    </tr>\n",
       "    <tr>\n",
       "      <th>99999</th>\n",
       "      <td>efe49f1d6f951dd88b51e6ccd4cc548f</td>\n",
       "      <td>1</td>\n",
       "      <td></td>\n",
       "      <td>meu produto chegou e ja tenho que devolver, po...</td>\n",
       "      <td>meu produto chegou e ja tenho que devolver, p...</td>\n",
       "    </tr>\n",
       "  </tbody>\n",
       "</table>\n",
       "<p>43152 rows × 5 columns</p>\n",
       "</div>"
      ],
      "text/plain": [
       "                              review_id  review_score review_comment_title  \\\n",
       "3      e64fb393e7b32834bb789ff8bb30750e             5                        \n",
       "4      f7c4243c7fe1938f181bec41a392bdeb             5                        \n",
       "9      8670d52e15e00043ae7de4c01cc2fe06             4            recomendo   \n",
       "12     4b49719c8a200003f700d3d986ea1a19             4                        \n",
       "15     3948b09f7c818e2d86c9a546758b2335             5      Super recomendo   \n",
       "...                                 ...           ...                  ...   \n",
       "99983  df5fae90e85354241d5d64a8955b2b09             5                        \n",
       "99990  a709d176f59bc3af77f4149c96bae357             3                        \n",
       "99996  b3de70c89b1510c4cd3d0649fd302472             5                        \n",
       "99998  be360f18f5df1e0541061c87021e6d93             1                        \n",
       "99999  efe49f1d6f951dd88b51e6ccd4cc548f             1                        \n",
       "\n",
       "                                  review_comment_message  \\\n",
       "3                  Recebi bem antes do prazo estipulado.   \n",
       "4      Parabéns lojas lannister adorei comprar pela I...   \n",
       "9      aparelho eficiente. no site a marca do aparelh...   \n",
       "12       Mas um pouco ,travando...pelo valor ta Boa.\\r\\n   \n",
       "15     Vendedor confiável, produto ok e entrega antes...   \n",
       "...                                                  ...   \n",
       "99983  Entregou dentro do prazo. O produto chegou em ...   \n",
       "99990  O produto não foi enviado com NF, não existe v...   \n",
       "99996  Excelente mochila, entrega super rápida. Super...   \n",
       "99998  Solicitei a compra de uma capa de retrovisor c...   \n",
       "99999  meu produto chegou e ja tenho que devolver, po...   \n",
       "\n",
       "                                                  review  \n",
       "3                  Recebi bem antes do prazo estipulado.  \n",
       "4       Parabéns lojas lannister adorei comprar pela ...  \n",
       "9      recomendo aparelho eficiente. no site a marca ...  \n",
       "12       Mas um pouco ,travando...pelo valor ta Boa.\\r\\n  \n",
       "15     Super recomendo Vendedor confiável, produto ok...  \n",
       "...                                                  ...  \n",
       "99983   Entregou dentro do prazo. O produto chegou em...  \n",
       "99990   O produto não foi enviado com NF, não existe ...  \n",
       "99996   Excelente mochila, entrega super rápida. Supe...  \n",
       "99998   Solicitei a compra de uma capa de retrovisor ...  \n",
       "99999   meu produto chegou e ja tenho que devolver, p...  \n",
       "\n",
       "[43152 rows x 5 columns]"
      ]
     },
     "execution_count": 99,
     "metadata": {},
     "output_type": "execute_result"
    }
   ],
   "source": [
    "data"
   ]
  },
  {
   "cell_type": "code",
   "execution_count": 17,
   "metadata": {},
   "outputs": [
    {
     "name": "stdout",
     "output_type": "stream",
     "text": [
      "<class 'pandas.core.frame.DataFrame'>\n",
      "Int64Index: 43152 entries, 3 to 99999\n",
      "Data columns (total 5 columns):\n",
      " #   Column                  Non-Null Count  Dtype \n",
      "---  ------                  --------------  ----- \n",
      " 0   review_id               43152 non-null  object\n",
      " 1   review_score            43152 non-null  int64 \n",
      " 2   review_comment_title    43152 non-null  object\n",
      " 3   review_comment_message  43152 non-null  object\n",
      " 4   review                  43152 non-null  object\n",
      "dtypes: int64(1), object(4)\n",
      "memory usage: 2.0+ MB\n"
     ]
    }
   ],
   "source": [
    "data.info()"
   ]
  },
  {
   "cell_type": "code",
   "execution_count": 18,
   "metadata": {},
   "outputs": [
    {
     "data": {
      "text/html": [
       "<div>\n",
       "<style scoped>\n",
       "    .dataframe tbody tr th:only-of-type {\n",
       "        vertical-align: middle;\n",
       "    }\n",
       "\n",
       "    .dataframe tbody tr th {\n",
       "        vertical-align: top;\n",
       "    }\n",
       "\n",
       "    .dataframe thead th {\n",
       "        text-align: right;\n",
       "    }\n",
       "</style>\n",
       "<table border=\"1\" class=\"dataframe\">\n",
       "  <thead>\n",
       "    <tr style=\"text-align: right;\">\n",
       "      <th></th>\n",
       "      <th>review_id</th>\n",
       "      <th>review_score</th>\n",
       "      <th>review_comment_title</th>\n",
       "      <th>review_comment_message</th>\n",
       "      <th>review</th>\n",
       "    </tr>\n",
       "  </thead>\n",
       "  <tbody>\n",
       "    <tr>\n",
       "      <th>3</th>\n",
       "      <td>e64fb393e7b32834bb789ff8bb30750e</td>\n",
       "      <td>5</td>\n",
       "      <td></td>\n",
       "      <td>Recebi bem antes do prazo estipulado.</td>\n",
       "      <td>Recebi bem antes do prazo estipulado.</td>\n",
       "    </tr>\n",
       "    <tr>\n",
       "      <th>4</th>\n",
       "      <td>f7c4243c7fe1938f181bec41a392bdeb</td>\n",
       "      <td>5</td>\n",
       "      <td></td>\n",
       "      <td>Parabéns lojas lannister adorei comprar pela I...</td>\n",
       "      <td>Parabéns lojas lannister adorei comprar pela ...</td>\n",
       "    </tr>\n",
       "    <tr>\n",
       "      <th>9</th>\n",
       "      <td>8670d52e15e00043ae7de4c01cc2fe06</td>\n",
       "      <td>4</td>\n",
       "      <td>recomendo</td>\n",
       "      <td>aparelho eficiente. no site a marca do aparelh...</td>\n",
       "      <td>recomendo aparelho eficiente. no site a marca ...</td>\n",
       "    </tr>\n",
       "    <tr>\n",
       "      <th>12</th>\n",
       "      <td>4b49719c8a200003f700d3d986ea1a19</td>\n",
       "      <td>4</td>\n",
       "      <td></td>\n",
       "      <td>Mas um pouco ,travando...pelo valor ta Boa.\\r\\n</td>\n",
       "      <td>Mas um pouco ,travando...pelo valor ta Boa.\\r\\n</td>\n",
       "    </tr>\n",
       "    <tr>\n",
       "      <th>15</th>\n",
       "      <td>3948b09f7c818e2d86c9a546758b2335</td>\n",
       "      <td>5</td>\n",
       "      <td>Super recomendo</td>\n",
       "      <td>Vendedor confiável, produto ok e entrega antes...</td>\n",
       "      <td>Super recomendo Vendedor confiável, produto ok...</td>\n",
       "    </tr>\n",
       "  </tbody>\n",
       "</table>\n",
       "</div>"
      ],
      "text/plain": [
       "                           review_id  review_score review_comment_title  \\\n",
       "3   e64fb393e7b32834bb789ff8bb30750e             5                        \n",
       "4   f7c4243c7fe1938f181bec41a392bdeb             5                        \n",
       "9   8670d52e15e00043ae7de4c01cc2fe06             4            recomendo   \n",
       "12  4b49719c8a200003f700d3d986ea1a19             4                        \n",
       "15  3948b09f7c818e2d86c9a546758b2335             5      Super recomendo   \n",
       "\n",
       "                               review_comment_message  \\\n",
       "3               Recebi bem antes do prazo estipulado.   \n",
       "4   Parabéns lojas lannister adorei comprar pela I...   \n",
       "9   aparelho eficiente. no site a marca do aparelh...   \n",
       "12    Mas um pouco ,travando...pelo valor ta Boa.\\r\\n   \n",
       "15  Vendedor confiável, produto ok e entrega antes...   \n",
       "\n",
       "                                               review  \n",
       "3               Recebi bem antes do prazo estipulado.  \n",
       "4    Parabéns lojas lannister adorei comprar pela ...  \n",
       "9   recomendo aparelho eficiente. no site a marca ...  \n",
       "12    Mas um pouco ,travando...pelo valor ta Boa.\\r\\n  \n",
       "15  Super recomendo Vendedor confiável, produto ok...  "
      ]
     },
     "execution_count": 18,
     "metadata": {},
     "output_type": "execute_result"
    }
   ],
   "source": [
    "data.head()"
   ]
  },
  {
   "cell_type": "code",
   "execution_count": 19,
   "metadata": {},
   "outputs": [
    {
     "data": {
      "text/plain": [
       "5    21762\n",
       "1     9153\n",
       "4     6296\n",
       "3     3721\n",
       "2     2220\n",
       "Name: review_score, dtype: int64"
      ]
     },
     "execution_count": 19,
     "metadata": {},
     "output_type": "execute_result"
    }
   ],
   "source": [
    "data[\"review_score\"].value_counts()"
   ]
  },
  {
   "cell_type": "code",
   "execution_count": 20,
   "metadata": {},
   "outputs": [
    {
     "name": "stderr",
     "output_type": "stream",
     "text": [
      "<ipython-input-20-2f0ddea54311>:9: SettingWithCopyWarning: \n",
      "A value is trying to be set on a copy of a slice from a DataFrame.\n",
      "Try using .loc[row_indexer,col_indexer] = value instead\n",
      "\n",
      "See the caveats in the documentation: https://pandas.pydata.org/pandas-docs/stable/user_guide/indexing.html#returning-a-view-versus-a-copy\n",
      "  data['label'] = labels\n"
     ]
    }
   ],
   "source": [
    "labels = []\n",
    "\n",
    "for score in data['review_score']:\n",
    "    if score > 3:\n",
    "        labels.append(1)\n",
    "    else:\n",
    "        labels.append(0)\n",
    "\n",
    "data['label'] = labels"
   ]
  },
  {
   "cell_type": "code",
   "execution_count": 21,
   "metadata": {},
   "outputs": [
    {
     "data": {
      "text/html": [
       "<div>\n",
       "<style scoped>\n",
       "    .dataframe tbody tr th:only-of-type {\n",
       "        vertical-align: middle;\n",
       "    }\n",
       "\n",
       "    .dataframe tbody tr th {\n",
       "        vertical-align: top;\n",
       "    }\n",
       "\n",
       "    .dataframe thead th {\n",
       "        text-align: right;\n",
       "    }\n",
       "</style>\n",
       "<table border=\"1\" class=\"dataframe\">\n",
       "  <thead>\n",
       "    <tr style=\"text-align: right;\">\n",
       "      <th></th>\n",
       "      <th>review_id</th>\n",
       "      <th>review_score</th>\n",
       "      <th>review_comment_title</th>\n",
       "      <th>review_comment_message</th>\n",
       "      <th>review</th>\n",
       "      <th>label</th>\n",
       "    </tr>\n",
       "  </thead>\n",
       "  <tbody>\n",
       "    <tr>\n",
       "      <th>3</th>\n",
       "      <td>e64fb393e7b32834bb789ff8bb30750e</td>\n",
       "      <td>5</td>\n",
       "      <td></td>\n",
       "      <td>Recebi bem antes do prazo estipulado.</td>\n",
       "      <td>Recebi bem antes do prazo estipulado.</td>\n",
       "      <td>1</td>\n",
       "    </tr>\n",
       "    <tr>\n",
       "      <th>4</th>\n",
       "      <td>f7c4243c7fe1938f181bec41a392bdeb</td>\n",
       "      <td>5</td>\n",
       "      <td></td>\n",
       "      <td>Parabéns lojas lannister adorei comprar pela I...</td>\n",
       "      <td>Parabéns lojas lannister adorei comprar pela ...</td>\n",
       "      <td>1</td>\n",
       "    </tr>\n",
       "    <tr>\n",
       "      <th>9</th>\n",
       "      <td>8670d52e15e00043ae7de4c01cc2fe06</td>\n",
       "      <td>4</td>\n",
       "      <td>recomendo</td>\n",
       "      <td>aparelho eficiente. no site a marca do aparelh...</td>\n",
       "      <td>recomendo aparelho eficiente. no site a marca ...</td>\n",
       "      <td>1</td>\n",
       "    </tr>\n",
       "    <tr>\n",
       "      <th>12</th>\n",
       "      <td>4b49719c8a200003f700d3d986ea1a19</td>\n",
       "      <td>4</td>\n",
       "      <td></td>\n",
       "      <td>Mas um pouco ,travando...pelo valor ta Boa.\\r\\n</td>\n",
       "      <td>Mas um pouco ,travando...pelo valor ta Boa.\\r\\n</td>\n",
       "      <td>1</td>\n",
       "    </tr>\n",
       "    <tr>\n",
       "      <th>15</th>\n",
       "      <td>3948b09f7c818e2d86c9a546758b2335</td>\n",
       "      <td>5</td>\n",
       "      <td>Super recomendo</td>\n",
       "      <td>Vendedor confiável, produto ok e entrega antes...</td>\n",
       "      <td>Super recomendo Vendedor confiável, produto ok...</td>\n",
       "      <td>1</td>\n",
       "    </tr>\n",
       "  </tbody>\n",
       "</table>\n",
       "</div>"
      ],
      "text/plain": [
       "                           review_id  review_score review_comment_title  \\\n",
       "3   e64fb393e7b32834bb789ff8bb30750e             5                        \n",
       "4   f7c4243c7fe1938f181bec41a392bdeb             5                        \n",
       "9   8670d52e15e00043ae7de4c01cc2fe06             4            recomendo   \n",
       "12  4b49719c8a200003f700d3d986ea1a19             4                        \n",
       "15  3948b09f7c818e2d86c9a546758b2335             5      Super recomendo   \n",
       "\n",
       "                               review_comment_message  \\\n",
       "3               Recebi bem antes do prazo estipulado.   \n",
       "4   Parabéns lojas lannister adorei comprar pela I...   \n",
       "9   aparelho eficiente. no site a marca do aparelh...   \n",
       "12    Mas um pouco ,travando...pelo valor ta Boa.\\r\\n   \n",
       "15  Vendedor confiável, produto ok e entrega antes...   \n",
       "\n",
       "                                               review  label  \n",
       "3               Recebi bem antes do prazo estipulado.      1  \n",
       "4    Parabéns lojas lannister adorei comprar pela ...      1  \n",
       "9   recomendo aparelho eficiente. no site a marca ...      1  \n",
       "12    Mas um pouco ,travando...pelo valor ta Boa.\\r\\n      1  \n",
       "15  Super recomendo Vendedor confiável, produto ok...      1  "
      ]
     },
     "execution_count": 21,
     "metadata": {},
     "output_type": "execute_result"
    }
   ],
   "source": [
    "data.head()"
   ]
  },
  {
   "cell_type": "code",
   "execution_count": 22,
   "metadata": {},
   "outputs": [
    {
     "name": "stderr",
     "output_type": "stream",
     "text": [
      "C:\\Users\\andre.paes\\Anaconda3\\lib\\site-packages\\seaborn\\_decorators.py:36: FutureWarning: Pass the following variable as a keyword arg: x. From version 0.12, the only valid positional argument will be `data`, and passing other arguments without an explicit keyword will result in an error or misinterpretation.\n",
      "  warnings.warn(\n"
     ]
    },
    {
     "data": {
      "image/png": "[encoded data removed]",
      "text/plain": [
       "<Figure size 576x432 with 1 Axes>"
      ]
     },
     "metadata": {
      "needs_background": "light"
     },
     "output_type": "display_data"
    }
   ],
   "source": [
    "plt.figure(figsize=(8,6))\n",
    "sns.countplot(data['label'])\n",
    "plt.show()"
   ]
  },
  {
   "cell_type": "markdown",
   "metadata": {},
   "source": [
    "#### Há bem mais reviews positivas do que negativas"
   ]
  },
  {
   "cell_type": "markdown",
   "metadata": {},
   "source": [
    "### Pré-processamento do texto"
   ]
  },
  {
   "cell_type": "code",
   "execution_count": 23,
   "metadata": {},
   "outputs": [
    {
     "name": "stderr",
     "output_type": "stream",
     "text": [
      "[nltk_data] Downloading package stopwords to\n",
      "[nltk_data]     C:\\Users\\andre.paes\\AppData\\Roaming\\nltk_data...\n",
      "[nltk_data]   Unzipping corpora\\stopwords.zip.\n"
     ]
    }
   ],
   "source": [
    "import nltk\n",
    "nltk.download('stopwords')\n",
    "from nltk.corpus import stopwords"
   ]
  },
  {
   "cell_type": "code",
   "execution_count": 24,
   "metadata": {},
   "outputs": [],
   "source": [
    "stopwords_pt = stopwords.words(\"portuguese\")"
   ]
  },
  {
   "cell_type": "code",
   "execution_count": 25,
   "metadata": {},
   "outputs": [
    {
     "data": {
      "text/plain": [
       "['de',\n",
       " 'a',\n",
       " 'o',\n",
       " 'que',\n",
       " 'e',\n",
       " 'é',\n",
       " 'do',\n",
       " 'da',\n",
       " 'em',\n",
       " 'um',\n",
       " 'para',\n",
       " 'com',\n",
       " 'não',\n",
       " 'uma',\n",
       " 'os',\n",
       " 'no',\n",
       " 'se',\n",
       " 'na',\n",
       " 'por',\n",
       " 'mais',\n",
       " 'as',\n",
       " 'dos',\n",
       " 'como',\n",
       " 'mas',\n",
       " 'ao',\n",
       " 'ele',\n",
       " 'das',\n",
       " 'à',\n",
       " 'seu',\n",
       " 'sua',\n",
       " 'ou',\n",
       " 'quando',\n",
       " 'muito',\n",
       " 'nos',\n",
       " 'já',\n",
       " 'eu',\n",
       " 'também',\n",
       " 'só',\n",
       " 'pelo',\n",
       " 'pela',\n",
       " 'até',\n",
       " 'isso',\n",
       " 'ela',\n",
       " 'entre',\n",
       " 'depois',\n",
       " 'sem',\n",
       " 'mesmo',\n",
       " 'aos',\n",
       " 'seus',\n",
       " 'quem',\n",
       " 'nas',\n",
       " 'me',\n",
       " 'esse',\n",
       " 'eles',\n",
       " 'você',\n",
       " 'essa',\n",
       " 'num',\n",
       " 'nem',\n",
       " 'suas',\n",
       " 'meu',\n",
       " 'às',\n",
       " 'minha',\n",
       " 'numa',\n",
       " 'pelos',\n",
       " 'elas',\n",
       " 'qual',\n",
       " 'nós',\n",
       " 'lhe',\n",
       " 'deles',\n",
       " 'essas',\n",
       " 'esses',\n",
       " 'pelas',\n",
       " 'este',\n",
       " 'dele',\n",
       " 'tu',\n",
       " 'te',\n",
       " 'vocês',\n",
       " 'vos',\n",
       " 'lhes',\n",
       " 'meus',\n",
       " 'minhas',\n",
       " 'teu',\n",
       " 'tua',\n",
       " 'teus',\n",
       " 'tuas',\n",
       " 'nosso',\n",
       " 'nossa',\n",
       " 'nossos',\n",
       " 'nossas',\n",
       " 'dela',\n",
       " 'delas',\n",
       " 'esta',\n",
       " 'estes',\n",
       " 'estas',\n",
       " 'aquele',\n",
       " 'aquela',\n",
       " 'aqueles',\n",
       " 'aquelas',\n",
       " 'isto',\n",
       " 'aquilo',\n",
       " 'estou',\n",
       " 'está',\n",
       " 'estamos',\n",
       " 'estão',\n",
       " 'estive',\n",
       " 'esteve',\n",
       " 'estivemos',\n",
       " 'estiveram',\n",
       " 'estava',\n",
       " 'estávamos',\n",
       " 'estavam',\n",
       " 'estivera',\n",
       " 'estivéramos',\n",
       " 'esteja',\n",
       " 'estejamos',\n",
       " 'estejam',\n",
       " 'estivesse',\n",
       " 'estivéssemos',\n",
       " 'estivessem',\n",
       " 'estiver',\n",
       " 'estivermos',\n",
       " 'estiverem',\n",
       " 'hei',\n",
       " 'há',\n",
       " 'havemos',\n",
       " 'hão',\n",
       " 'houve',\n",
       " 'houvemos',\n",
       " 'houveram',\n",
       " 'houvera',\n",
       " 'houvéramos',\n",
       " 'haja',\n",
       " 'hajamos',\n",
       " 'hajam',\n",
       " 'houvesse',\n",
       " 'houvéssemos',\n",
       " 'houvessem',\n",
       " 'houver',\n",
       " 'houvermos',\n",
       " 'houverem',\n",
       " 'houverei',\n",
       " 'houverá',\n",
       " 'houveremos',\n",
       " 'houverão',\n",
       " 'houveria',\n",
       " 'houveríamos',\n",
       " 'houveriam',\n",
       " 'sou',\n",
       " 'somos',\n",
       " 'são',\n",
       " 'era',\n",
       " 'éramos',\n",
       " 'eram',\n",
       " 'fui',\n",
       " 'foi',\n",
       " 'fomos',\n",
       " 'foram',\n",
       " 'fora',\n",
       " 'fôramos',\n",
       " 'seja',\n",
       " 'sejamos',\n",
       " 'sejam',\n",
       " 'fosse',\n",
       " 'fôssemos',\n",
       " 'fossem',\n",
       " 'for',\n",
       " 'formos',\n",
       " 'forem',\n",
       " 'serei',\n",
       " 'será',\n",
       " 'seremos',\n",
       " 'serão',\n",
       " 'seria',\n",
       " 'seríamos',\n",
       " 'seriam',\n",
       " 'tenho',\n",
       " 'tem',\n",
       " 'temos',\n",
       " 'tém',\n",
       " 'tinha',\n",
       " 'tínhamos',\n",
       " 'tinham',\n",
       " 'tive',\n",
       " 'teve',\n",
       " 'tivemos',\n",
       " 'tiveram',\n",
       " 'tivera',\n",
       " 'tivéramos',\n",
       " 'tenha',\n",
       " 'tenhamos',\n",
       " 'tenham',\n",
       " 'tivesse',\n",
       " 'tivéssemos',\n",
       " 'tivessem',\n",
       " 'tiver',\n",
       " 'tivermos',\n",
       " 'tiverem',\n",
       " 'terei',\n",
       " 'terá',\n",
       " 'teremos',\n",
       " 'terão',\n",
       " 'teria',\n",
       " 'teríamos',\n",
       " 'teriam']"
      ]
     },
     "execution_count": 25,
     "metadata": {},
     "output_type": "execute_result"
    }
   ],
   "source": [
    "stopwords_pt"
   ]
  },
  {
   "cell_type": "markdown",
   "metadata": {},
   "source": [
    "### Obs. Palavras como 'não' e 'nem' podem ser importantes na análise de sentimentos, por isso vamos tirá-las da lista de stopwords."
   ]
  },
  {
   "cell_type": "code",
   "execution_count": 26,
   "metadata": {},
   "outputs": [],
   "source": [
    "stopwords_pt.remove('não')\n",
    "stopwords_pt.remove('nem')"
   ]
  },
  {
   "cell_type": "code",
   "execution_count": 27,
   "metadata": {},
   "outputs": [],
   "source": [
    "def limpa_texto(texto):\n",
    "    '''(str) -> str\n",
    "    Essa função recebe uma string, deixa tudo em minúsculo, filtra apenas letras,\n",
    "    retira stopwords, lemmatiza e retorna a string resultante.'''\n",
    "    \n",
    "    texto = texto.lower()\n",
    "    \n",
    "    texto = re.sub(r\"[\\W\\d_]+\", \" \", texto)\n",
    "    \n",
    "    texto = [pal for pal in texto.split() if pal not in stopwords_pt]\n",
    "    \n",
    "    spc_texto = spc_pt(\" \".join(texto))\n",
    "    tokens = [word.lemma_ if word.lemma_ != \"-PRON-\" else word.lower_ for word in spc_texto]\n",
    "    \n",
    "    return \" \".join(tokens)"
   ]
  },
  {
   "cell_type": "code",
   "execution_count": 28,
   "metadata": {},
   "outputs": [
    {
     "name": "stderr",
     "output_type": "stream",
     "text": [
      "<ipython-input-28-37e246982738>:1: SettingWithCopyWarning: \n",
      "A value is trying to be set on a copy of a slice from a DataFrame.\n",
      "Try using .loc[row_indexer,col_indexer] = value instead\n",
      "\n",
      "See the caveats in the documentation: https://pandas.pydata.org/pandas-docs/stable/user_guide/indexing.html#returning-a-view-versus-a-copy\n",
      "  data['review'] = data['review'].apply(limpa_texto)\n"
     ]
    }
   ],
   "source": [
    "data['review'] = data['review'].apply(limpa_texto)"
   ]
  },
  {
   "cell_type": "code",
   "execution_count": 29,
   "metadata": {},
   "outputs": [
    {
     "name": "stdout",
     "output_type": "stream",
     "text": [
      "<class 'pandas.core.frame.DataFrame'>\n",
      "Int64Index: 43152 entries, 3 to 99999\n",
      "Data columns (total 6 columns):\n",
      " #   Column                  Non-Null Count  Dtype \n",
      "---  ------                  --------------  ----- \n",
      " 0   review_id               43152 non-null  object\n",
      " 1   review_score            43152 non-null  int64 \n",
      " 2   review_comment_title    43152 non-null  object\n",
      " 3   review_comment_message  43152 non-null  object\n",
      " 4   review                  43152 non-null  object\n",
      " 5   label                   43152 non-null  int64 \n",
      "dtypes: int64(2), object(4)\n",
      "memory usage: 3.6+ MB\n"
     ]
    }
   ],
   "source": [
    "data.info()"
   ]
  },
  {
   "cell_type": "code",
   "execution_count": 30,
   "metadata": {},
   "outputs": [
    {
     "data": {
      "text/html": [
       "<div>\n",
       "<style scoped>\n",
       "    .dataframe tbody tr th:only-of-type {\n",
       "        vertical-align: middle;\n",
       "    }\n",
       "\n",
       "    .dataframe tbody tr th {\n",
       "        vertical-align: top;\n",
       "    }\n",
       "\n",
       "    .dataframe thead th {\n",
       "        text-align: right;\n",
       "    }\n",
       "</style>\n",
       "<table border=\"1\" class=\"dataframe\">\n",
       "  <thead>\n",
       "    <tr style=\"text-align: right;\">\n",
       "      <th></th>\n",
       "      <th>review_id</th>\n",
       "      <th>review_score</th>\n",
       "      <th>review_comment_title</th>\n",
       "      <th>review_comment_message</th>\n",
       "      <th>review</th>\n",
       "      <th>label</th>\n",
       "    </tr>\n",
       "  </thead>\n",
       "  <tbody>\n",
       "    <tr>\n",
       "      <th>3</th>\n",
       "      <td>e64fb393e7b32834bb789ff8bb30750e</td>\n",
       "      <td>5</td>\n",
       "      <td></td>\n",
       "      <td>Recebi bem antes do prazo estipulado.</td>\n",
       "      <td>receber bem antar prazo estipular</td>\n",
       "      <td>1</td>\n",
       "    </tr>\n",
       "    <tr>\n",
       "      <th>4</th>\n",
       "      <td>f7c4243c7fe1938f181bec41a392bdeb</td>\n",
       "      <td>5</td>\n",
       "      <td></td>\n",
       "      <td>Parabéns lojas lannister adorei comprar pela I...</td>\n",
       "      <td>parabém loja lannister adorar comprar internet...</td>\n",
       "      <td>1</td>\n",
       "    </tr>\n",
       "    <tr>\n",
       "      <th>9</th>\n",
       "      <td>8670d52e15e00043ae7de4c01cc2fe06</td>\n",
       "      <td>4</td>\n",
       "      <td>recomendo</td>\n",
       "      <td>aparelho eficiente. no site a marca do aparelh...</td>\n",
       "      <td>recomendar aparelhar eficiente site marcar apa...</td>\n",
       "      <td>1</td>\n",
       "    </tr>\n",
       "    <tr>\n",
       "      <th>12</th>\n",
       "      <td>4b49719c8a200003f700d3d986ea1a19</td>\n",
       "      <td>4</td>\n",
       "      <td></td>\n",
       "      <td>Mas um pouco ,travando...pelo valor ta Boa.\\r\\n</td>\n",
       "      <td>pouco travar valor ta bom</td>\n",
       "      <td>1</td>\n",
       "    </tr>\n",
       "    <tr>\n",
       "      <th>15</th>\n",
       "      <td>3948b09f7c818e2d86c9a546758b2335</td>\n",
       "      <td>5</td>\n",
       "      <td>Super recomendo</td>\n",
       "      <td>Vendedor confiável, produto ok e entrega antes...</td>\n",
       "      <td>super recomendar vendedor confiável produto ok...</td>\n",
       "      <td>1</td>\n",
       "    </tr>\n",
       "  </tbody>\n",
       "</table>\n",
       "</div>"
      ],
      "text/plain": [
       "                           review_id  review_score review_comment_title  \\\n",
       "3   e64fb393e7b32834bb789ff8bb30750e             5                        \n",
       "4   f7c4243c7fe1938f181bec41a392bdeb             5                        \n",
       "9   8670d52e15e00043ae7de4c01cc2fe06             4            recomendo   \n",
       "12  4b49719c8a200003f700d3d986ea1a19             4                        \n",
       "15  3948b09f7c818e2d86c9a546758b2335             5      Super recomendo   \n",
       "\n",
       "                               review_comment_message  \\\n",
       "3               Recebi bem antes do prazo estipulado.   \n",
       "4   Parabéns lojas lannister adorei comprar pela I...   \n",
       "9   aparelho eficiente. no site a marca do aparelh...   \n",
       "12    Mas um pouco ,travando...pelo valor ta Boa.\\r\\n   \n",
       "15  Vendedor confiável, produto ok e entrega antes...   \n",
       "\n",
       "                                               review  label  \n",
       "3                   receber bem antar prazo estipular      1  \n",
       "4   parabém loja lannister adorar comprar internet...      1  \n",
       "9   recomendar aparelhar eficiente site marcar apa...      1  \n",
       "12                          pouco travar valor ta bom      1  \n",
       "15  super recomendar vendedor confiável produto ok...      1  "
      ]
     },
     "execution_count": 30,
     "metadata": {},
     "output_type": "execute_result"
    }
   ],
   "source": [
    "data.head()"
   ]
  },
  {
   "cell_type": "code",
   "execution_count": 31,
   "metadata": {},
   "outputs": [
    {
     "data": {
      "text/html": [
       "<div>\n",
       "<style scoped>\n",
       "    .dataframe tbody tr th:only-of-type {\n",
       "        vertical-align: middle;\n",
       "    }\n",
       "\n",
       "    .dataframe tbody tr th {\n",
       "        vertical-align: top;\n",
       "    }\n",
       "\n",
       "    .dataframe thead th {\n",
       "        text-align: right;\n",
       "    }\n",
       "</style>\n",
       "<table border=\"1\" class=\"dataframe\">\n",
       "  <thead>\n",
       "    <tr style=\"text-align: right;\">\n",
       "      <th></th>\n",
       "      <th>review_id</th>\n",
       "      <th>review_score</th>\n",
       "      <th>review_comment_title</th>\n",
       "      <th>review_comment_message</th>\n",
       "      <th>review</th>\n",
       "      <th>label</th>\n",
       "    </tr>\n",
       "  </thead>\n",
       "  <tbody>\n",
       "    <tr>\n",
       "      <th>299</th>\n",
       "      <td>2b4a570df87cd63b232272dd9dcac0cf</td>\n",
       "      <td>5</td>\n",
       "      <td></td>\n",
       "      <td>A</td>\n",
       "      <td></td>\n",
       "      <td>1</td>\n",
       "    </tr>\n",
       "    <tr>\n",
       "      <th>465</th>\n",
       "      <td>3140a4eb146655fe104d54d385f9e9a0</td>\n",
       "      <td>5</td>\n",
       "      <td></td>\n",
       "      <td>10</td>\n",
       "      <td></td>\n",
       "      <td>1</td>\n",
       "    </tr>\n",
       "    <tr>\n",
       "      <th>585</th>\n",
       "      <td>3814f35a6ebd64d27e2130f30ec05255</td>\n",
       "      <td>4</td>\n",
       "      <td>5</td>\n",
       "      <td></td>\n",
       "      <td></td>\n",
       "      <td>1</td>\n",
       "    </tr>\n",
       "    <tr>\n",
       "      <th>600</th>\n",
       "      <td>057c9a1e8e767d8bf6fa59ac43a82435</td>\n",
       "      <td>4</td>\n",
       "      <td>4</td>\n",
       "      <td></td>\n",
       "      <td></td>\n",
       "      <td>1</td>\n",
       "    </tr>\n",
       "    <tr>\n",
       "      <th>944</th>\n",
       "      <td>8f965d010b3119d9962e091de3425fb9</td>\n",
       "      <td>4</td>\n",
       "      <td></td>\n",
       "      <td>*******************</td>\n",
       "      <td></td>\n",
       "      <td>1</td>\n",
       "    </tr>\n",
       "    <tr>\n",
       "      <th>...</th>\n",
       "      <td>...</td>\n",
       "      <td>...</td>\n",
       "      <td>...</td>\n",
       "      <td>...</td>\n",
       "      <td>...</td>\n",
       "      <td>...</td>\n",
       "    </tr>\n",
       "    <tr>\n",
       "      <th>95522</th>\n",
       "      <td>014f70270fa59804f14eb3df2ca690d2</td>\n",
       "      <td>5</td>\n",
       "      <td></td>\n",
       "      <td>........................</td>\n",
       "      <td></td>\n",
       "      <td>1</td>\n",
       "    </tr>\n",
       "    <tr>\n",
       "      <th>97525</th>\n",
       "      <td>47850e2adbd18f61f2af4af9b7656198</td>\n",
       "      <td>5</td>\n",
       "      <td></td>\n",
       "      <td>👍🏻👌🏻👏🏻</td>\n",
       "      <td></td>\n",
       "      <td>1</td>\n",
       "    </tr>\n",
       "    <tr>\n",
       "      <th>98206</th>\n",
       "      <td>e47fd0401fce7a7b6283da2a5a8ba563</td>\n",
       "      <td>5</td>\n",
       "      <td>10</td>\n",
       "      <td></td>\n",
       "      <td></td>\n",
       "      <td>1</td>\n",
       "    </tr>\n",
       "    <tr>\n",
       "      <th>98800</th>\n",
       "      <td>f004d8b3a2ff22e3c030285842cf629a</td>\n",
       "      <td>5</td>\n",
       "      <td>*****</td>\n",
       "      <td></td>\n",
       "      <td></td>\n",
       "      <td>1</td>\n",
       "    </tr>\n",
       "    <tr>\n",
       "      <th>99352</th>\n",
       "      <td>f1728343b05bf4f27c695d38735920b2</td>\n",
       "      <td>4</td>\n",
       "      <td>6</td>\n",
       "      <td></td>\n",
       "      <td></td>\n",
       "      <td>1</td>\n",
       "    </tr>\n",
       "  </tbody>\n",
       "</table>\n",
       "<p>261 rows × 6 columns</p>\n",
       "</div>"
      ],
      "text/plain": [
       "                              review_id  review_score review_comment_title  \\\n",
       "299    2b4a570df87cd63b232272dd9dcac0cf             5                        \n",
       "465    3140a4eb146655fe104d54d385f9e9a0             5                        \n",
       "585    3814f35a6ebd64d27e2130f30ec05255             4                    5   \n",
       "600    057c9a1e8e767d8bf6fa59ac43a82435             4                    4   \n",
       "944    8f965d010b3119d9962e091de3425fb9             4                        \n",
       "...                                 ...           ...                  ...   \n",
       "95522  014f70270fa59804f14eb3df2ca690d2             5                        \n",
       "97525  47850e2adbd18f61f2af4af9b7656198             5                        \n",
       "98206  e47fd0401fce7a7b6283da2a5a8ba563             5                   10   \n",
       "98800  f004d8b3a2ff22e3c030285842cf629a             5                *****   \n",
       "99352  f1728343b05bf4f27c695d38735920b2             4                    6   \n",
       "\n",
       "         review_comment_message review  label  \n",
       "299                           A             1  \n",
       "465                          10             1  \n",
       "585                                         1  \n",
       "600                                         1  \n",
       "944         *******************             1  \n",
       "...                         ...    ...    ...  \n",
       "95522  ........................             1  \n",
       "97525                    👍🏻👌🏻👏🏻             1  \n",
       "98206                                       1  \n",
       "98800                                       1  \n",
       "99352                                       1  \n",
       "\n",
       "[261 rows x 6 columns]"
      ]
     },
     "execution_count": 31,
     "metadata": {},
     "output_type": "execute_result"
    }
   ],
   "source": [
    "data[data['review']=='']"
   ]
  },
  {
   "cell_type": "code",
   "execution_count": 32,
   "metadata": {},
   "outputs": [],
   "source": [
    "data = data[data['review']!= '']"
   ]
  },
  {
   "cell_type": "code",
   "execution_count": 33,
   "metadata": {},
   "outputs": [
    {
     "data": {
      "text/html": [
       "<div>\n",
       "<style scoped>\n",
       "    .dataframe tbody tr th:only-of-type {\n",
       "        vertical-align: middle;\n",
       "    }\n",
       "\n",
       "    .dataframe tbody tr th {\n",
       "        vertical-align: top;\n",
       "    }\n",
       "\n",
       "    .dataframe thead th {\n",
       "        text-align: right;\n",
       "    }\n",
       "</style>\n",
       "<table border=\"1\" class=\"dataframe\">\n",
       "  <thead>\n",
       "    <tr style=\"text-align: right;\">\n",
       "      <th></th>\n",
       "      <th>review_id</th>\n",
       "      <th>review_score</th>\n",
       "      <th>review_comment_title</th>\n",
       "      <th>review_comment_message</th>\n",
       "      <th>review</th>\n",
       "      <th>label</th>\n",
       "    </tr>\n",
       "  </thead>\n",
       "  <tbody>\n",
       "  </tbody>\n",
       "</table>\n",
       "</div>"
      ],
      "text/plain": [
       "Empty DataFrame\n",
       "Columns: [review_id, review_score, review_comment_title, review_comment_message, review, label]\n",
       "Index: []"
      ]
     },
     "execution_count": 33,
     "metadata": {},
     "output_type": "execute_result"
    }
   ],
   "source": [
    "data[data['review']=='']"
   ]
  },
  {
   "cell_type": "code",
   "execution_count": null,
   "metadata": {},
   "outputs": [],
   "source": [
    "# Verificamos que não existem mais informações faltantes"
   ]
  },
  {
   "cell_type": "code",
   "execution_count": 34,
   "metadata": {},
   "outputs": [
    {
     "name": "stdout",
     "output_type": "stream",
     "text": [
      "<class 'pandas.core.frame.DataFrame'>\n",
      "Int64Index: 42891 entries, 3 to 99999\n",
      "Data columns (total 6 columns):\n",
      " #   Column                  Non-Null Count  Dtype \n",
      "---  ------                  --------------  ----- \n",
      " 0   review_id               42891 non-null  object\n",
      " 1   review_score            42891 non-null  int64 \n",
      " 2   review_comment_title    42891 non-null  object\n",
      " 3   review_comment_message  42891 non-null  object\n",
      " 4   review                  42891 non-null  object\n",
      " 5   label                   42891 non-null  int64 \n",
      "dtypes: int64(2), object(4)\n",
      "memory usage: 2.3+ MB\n"
     ]
    }
   ],
   "source": [
    "data.info()"
   ]
  },
  {
   "cell_type": "code",
   "execution_count": 35,
   "metadata": {},
   "outputs": [],
   "source": [
    "data.to_csv('olist_preprocessado.csv', index=False, columns=['review_id', 'review', 'label'])"
   ]
  },
  {
   "cell_type": "markdown",
   "metadata": {},
   "source": [
    "## Feature Extraction"
   ]
  },
  {
   "cell_type": "code",
   "execution_count": 2,
   "metadata": {},
   "outputs": [
    {
     "ename": "NameError",
     "evalue": "name 'pd' is not defined",
     "output_type": "error",
     "traceback": [
      "\u001b[1;31m---------------------------------------------------------------------------\u001b[0m",
      "\u001b[1;31mNameError\u001b[0m                                 Traceback (most recent call last)",
      "\u001b[1;32m<ipython-input-2-bb116889b3d8>\u001b[0m in \u001b[0;36m<module>\u001b[1;34m\u001b[0m\n\u001b[1;32m----> 1\u001b[1;33m \u001b[0mdata\u001b[0m \u001b[1;33m=\u001b[0m \u001b[0mpd\u001b[0m\u001b[1;33m.\u001b[0m\u001b[0mread_csv\u001b[0m\u001b[1;33m(\u001b[0m\u001b[1;34m'olist_preprocessado.csv'\u001b[0m\u001b[1;33m)\u001b[0m\u001b[1;33m\u001b[0m\u001b[1;33m\u001b[0m\u001b[0m\n\u001b[0m",
      "\u001b[1;31mNameError\u001b[0m: name 'pd' is not defined"
     ]
    }
   ],
   "source": [
    "data = pd.read_csv('olist_preprocessado.csv')"
   ]
  },
  {
   "cell_type": "code",
   "execution_count": 7,
   "metadata": {},
   "outputs": [],
   "source": [
    "# Vamos testar dois métodos: Com Bag of Words com um vetor de componentes binários ou TF-ID.\n",
    "from sklearn.feature_extraction.text import CountVectorizer"
   ]
  },
  {
   "cell_type": "code",
   "execution_count": 8,
   "metadata": {},
   "outputs": [],
   "source": [
    "# Importando o CauntVectorizer\n",
    "from sklearn.feature_extraction.text import CountVectorizer"
   ]
  },
  {
   "cell_type": "code",
   "execution_count": 9,
   "metadata": {},
   "outputs": [],
   "source": [
    "# Instanciando o CountVectorizer, binary=True faz a codificaçã binária\n",
    "vectorizer = CountVectorizer(binary=True, max_features=5000)"
   ]
  },
  {
   "cell_type": "code",
   "execution_count": 10,
   "metadata": {},
   "outputs": [],
   "source": [
    "texto = data['review']"
   ]
  },
  {
   "cell_type": "code",
   "execution_count": 11,
   "metadata": {},
   "outputs": [],
   "source": [
    "# Vetorizando o texto\n",
    "X_bow = vectorizer.fit_transform(texto)"
   ]
  },
  {
   "cell_type": "code",
   "execution_count": 12,
   "metadata": {},
   "outputs": [
    {
     "data": {
      "text/plain": [
       "array([[0, 0, 0, ..., 0, 0, 0],\n",
       "       [0, 0, 0, ..., 0, 0, 0],\n",
       "       [0, 0, 0, ..., 0, 0, 0],\n",
       "       ...,\n",
       "       [0, 0, 0, ..., 0, 0, 0],\n",
       "       [0, 0, 0, ..., 0, 0, 0],\n",
       "       [0, 0, 0, ..., 0, 0, 0]], dtype=int64)"
      ]
     },
     "execution_count": 12,
     "metadata": {},
     "output_type": "execute_result"
    }
   ],
   "source": [
    "X_bow.toarray()"
   ]
  },
  {
   "cell_type": "code",
   "execution_count": 13,
   "metadata": {},
   "outputs": [
    {
     "name": "stdout",
     "output_type": "stream",
     "text": [
      "(42891, 5000) <class 'scipy.sparse.csr.csr_matrix'>\n"
     ]
    }
   ],
   "source": [
    "print(X_bow.shape, type(X_bow))"
   ]
  },
  {
   "cell_type": "markdown",
   "metadata": {},
   "source": [
    "## Com TF-IDF"
   ]
  },
  {
   "cell_type": "code",
   "execution_count": 14,
   "metadata": {},
   "outputs": [],
   "source": [
    "from sklearn.feature_extraction.text import TfidfVectorizer"
   ]
  },
  {
   "cell_type": "code",
   "execution_count": 15,
   "metadata": {},
   "outputs": [],
   "source": [
    "# Instanciando o TfidfVectorizer\n",
    "tfidf_vect = TfidfVectorizer(max_features=5000)"
   ]
  },
  {
   "cell_type": "code",
   "execution_count": 16,
   "metadata": {},
   "outputs": [],
   "source": [
    "# Vetorizando\n",
    "X_Tfidf = tfidf_vect.fit_transform(texto)"
   ]
  },
  {
   "cell_type": "code",
   "execution_count": 17,
   "metadata": {},
   "outputs": [
    {
     "name": "stdout",
     "output_type": "stream",
     "text": [
      "  (0, 1883)\t0.6933181141682138\n",
      "  (0, 3677)\t0.3055742580640303\n",
      "  (0, 269)\t0.3527978440552724\n",
      "  (0, 578)\t0.4278176238568358\n",
      "  (0, 3994)\t0.3441513145729538\n",
      "  (1, 3873)\t0.4786581907792164\n",
      "  (1, 2060)\t0.30331638770034963\n",
      "  (1, 4625)\t0.21217955720139903\n",
      "  (1, 3846)\t0.32360917602377554\n",
      "  (1, 4325)\t0.3310862822237056\n",
      "  (1, 2564)\t0.31195347329730727\n",
      "  (1, 1018)\t0.12833643775746337\n",
      "  (1, 85)\t0.2162699943274212\n",
      "  (1, 2675)\t0.20439357493414326\n",
      "  (1, 2783)\t0.16829338052888398\n",
      "  (1, 3391)\t0.43458830997345477\n",
      "  (2, 4850)\t0.1814206675408719\n",
      "  (2, 1179)\t0.16518292044930644\n",
      "  (2, 444)\t0.2956900187304881\n",
      "  (2, 3185)\t0.2343070984405629\n",
      "  (2, 3348)\t0.14545802024366608\n",
      "  (2, 877)\t0.09498563224213537\n",
      "  (2, 2445)\t0.2956900187304881\n",
      "  (2, 2887)\t0.4008556875171997\n",
      "  (2, 4404)\t0.14892187284016076\n",
      "  :\t:\n",
      "  (42889, 3748)\t0.29950777315704524\n",
      "  (42889, 837)\t0.30788927034916136\n",
      "  (42889, 795)\t0.20543726981504243\n",
      "  (42889, 2665)\t0.46340701576932003\n",
      "  (42889, 1499)\t0.18812067491300652\n",
      "  (42889, 3009)\t0.1892569865132692\n",
      "  (42889, 3728)\t0.18342558224106997\n",
      "  (42889, 1286)\t0.17572963627670965\n",
      "  (42889, 765)\t0.35166774921882715\n",
      "  (42889, 133)\t0.13669834706078773\n",
      "  (42889, 2081)\t0.1312912511776919\n",
      "  (42889, 2984)\t0.19258526852249427\n",
      "  (42889, 4430)\t0.15854696751366226\n",
      "  (42889, 3348)\t0.13044347761877964\n",
      "  (42889, 877)\t0.08518097642692306\n",
      "  (42889, 1018)\t0.08255037298334193\n",
      "  (42890, 783)\t0.5408202218942667\n",
      "  (42890, 1461)\t0.347726658285756\n",
      "  (42890, 2601)\t0.35752516605711215\n",
      "  (42890, 1300)\t0.3351500920358131\n",
      "  (42890, 3585)\t0.2840715934065831\n",
      "  (42890, 3228)\t0.1555759819013741\n",
      "  (42890, 3774)\t0.11121107819208255\n",
      "  (42890, 877)\t0.17778570503685379\n",
      "  (42890, 4325)\t0.4444925342439953\n"
     ]
    }
   ],
   "source": [
    "print(X_Tfidf)"
   ]
  },
  {
   "cell_type": "markdown",
   "metadata": {},
   "source": [
    "## Modelos"
   ]
  },
  {
   "cell_type": "markdown",
   "metadata": {},
   "source": [
    "### Primeiro é preciso dividir os dados em base de treino(70%) e teste(30%)."
   ]
  },
  {
   "cell_type": "code",
   "execution_count": 18,
   "metadata": {},
   "outputs": [],
   "source": [
    "from sklearn.model_selection import train_test_split"
   ]
  },
  {
   "cell_type": "code",
   "execution_count": 19,
   "metadata": {},
   "outputs": [],
   "source": [
    "X1_train, X1_test, y1_train, y1_test = train_test_split(X_bow, data['label'], test_size=0.30, random_state=1)"
   ]
  },
  {
   "cell_type": "code",
   "execution_count": 20,
   "metadata": {},
   "outputs": [],
   "source": [
    "X2_train, X2_test, y2_train, y2_test = train_test_split(X_Tfidf, data['label'], test_size=0.30, random_state=1)"
   ]
  },
  {
   "cell_type": "markdown",
   "metadata": {},
   "source": [
    "#### Importando as métricas que serão usadas para avaliar cada modelo"
   ]
  },
  {
   "cell_type": "code",
   "execution_count": 21,
   "metadata": {},
   "outputs": [],
   "source": [
    "from sklearn.metrics import accuracy_score, f1_score, roc_auc_score, confusion_matrix"
   ]
  },
  {
   "cell_type": "code",
   "execution_count": 22,
   "metadata": {},
   "outputs": [],
   "source": [
    "def mostra_metricas(y_true, y_pred):\n",
    "    '''\n",
    "    Função que recebe o y real, o y predito e apresenta as principais métricas\n",
    "    '''\n",
    "    print('Acurácia:', accuracy_score(y_true, y_pred))\n",
    "    print('\\nAUROC:', roc_auc_score(y_true, y_pred))\n",
    "    print('\\nF1-Score:', f1_score(y_true, y_pred, average='weighted'))\n",
    "    print('\\nMatriz de Confusão:')\n",
    "    sns.heatmap(confusion_matrix(y_true, y_pred), annot=True)\n",
    "    plt.show()"
   ]
  },
  {
   "cell_type": "markdown",
   "metadata": {},
   "source": [
    "## Regressão Logística"
   ]
  },
  {
   "cell_type": "markdown",
   "metadata": {},
   "source": [
    "### Texto vetorizado com Bag of Words"
   ]
  },
  {
   "cell_type": "code",
   "execution_count": 23,
   "metadata": {},
   "outputs": [],
   "source": [
    "from sklearn.linear_model import LogisticRegression"
   ]
  },
  {
   "cell_type": "code",
   "execution_count": 24,
   "metadata": {},
   "outputs": [],
   "source": [
    "# Instanciando a LogisticRegression\n",
    "reglog = LogisticRegression()"
   ]
  },
  {
   "cell_type": "code",
   "execution_count": 25,
   "metadata": {},
   "outputs": [
    {
     "name": "stderr",
     "output_type": "stream",
     "text": [
      "C:\\Users\\andre.paes\\Anaconda3\\lib\\site-packages\\sklearn\\linear_model\\_logistic.py:762: ConvergenceWarning: lbfgs failed to converge (status=1):\n",
      "STOP: TOTAL NO. of ITERATIONS REACHED LIMIT.\n",
      "\n",
      "Increase the number of iterations (max_iter) or scale the data as shown in:\n",
      "    https://scikit-learn.org/stable/modules/preprocessing.html\n",
      "Please also refer to the documentation for alternative solver options:\n",
      "    https://scikit-learn.org/stable/modules/linear_model.html#logistic-regression\n",
      "  n_iter_i = _check_optimize_result(\n"
     ]
    },
    {
     "data": {
      "text/plain": [
       "LogisticRegression()"
      ]
     },
     "execution_count": 25,
     "metadata": {},
     "output_type": "execute_result"
    }
   ],
   "source": [
    "# Aplicando o modelo\n",
    "reglog.fit(X1_train, y1_train)"
   ]
  },
  {
   "cell_type": "code",
   "execution_count": 26,
   "metadata": {},
   "outputs": [],
   "source": [
    "y1_reglog_pred = reglog.predict(X1_test)"
   ]
  },
  {
   "cell_type": "markdown",
   "metadata": {},
   "source": [
    "### Vamos agora analisar as Métricas"
   ]
  },
  {
   "cell_type": "code",
   "execution_count": 27,
   "metadata": {},
   "outputs": [
    {
     "name": "stdout",
     "output_type": "stream",
     "text": [
      "Acurácia: 0.8981193658688219\n",
      "\n",
      "AUROC: 0.8845532887915784\n",
      "\n",
      "F1-Score: 0.897680831890705\n",
      "\n",
      "Matriz de Confusão:\n"
     ]
    },
    {
     "data": {
      "image/png": "[encoded data removed]",
      "text/plain": [
       "<Figure size 432x288 with 2 Axes>"
      ]
     },
     "metadata": {
      "needs_background": "light"
     },
     "output_type": "display_data"
    }
   ],
   "source": [
    "mostra_metricas(y1_test, y1_reglog_pred)"
   ]
  },
  {
   "cell_type": "markdown",
   "metadata": {},
   "source": [
    "### Texto vetorizado com TF-IDF"
   ]
  },
  {
   "cell_type": "code",
   "execution_count": 28,
   "metadata": {},
   "outputs": [],
   "source": [
    "reglog2 = LogisticRegression()"
   ]
  },
  {
   "cell_type": "code",
   "execution_count": 29,
   "metadata": {},
   "outputs": [
    {
     "name": "stderr",
     "output_type": "stream",
     "text": [
      "C:\\Users\\andre.paes\\Anaconda3\\lib\\site-packages\\sklearn\\linear_model\\_logistic.py:762: ConvergenceWarning: lbfgs failed to converge (status=1):\n",
      "STOP: TOTAL NO. of ITERATIONS REACHED LIMIT.\n",
      "\n",
      "Increase the number of iterations (max_iter) or scale the data as shown in:\n",
      "    https://scikit-learn.org/stable/modules/preprocessing.html\n",
      "Please also refer to the documentation for alternative solver options:\n",
      "    https://scikit-learn.org/stable/modules/linear_model.html#logistic-regression\n",
      "  n_iter_i = _check_optimize_result(\n"
     ]
    },
    {
     "data": {
      "text/plain": [
       "LogisticRegression()"
      ]
     },
     "execution_count": 29,
     "metadata": {},
     "output_type": "execute_result"
    }
   ],
   "source": [
    "reglog2.fit(X2_train, y2_train)"
   ]
  },
  {
   "cell_type": "code",
   "execution_count": 30,
   "metadata": {},
   "outputs": [],
   "source": [
    "y2_reglog_pred = reglog2.predict(X2_test)"
   ]
  },
  {
   "cell_type": "code",
   "execution_count": 31,
   "metadata": {},
   "outputs": [
    {
     "name": "stdout",
     "output_type": "stream",
     "text": [
      "Acurácia: 0.9024712465029531\n",
      "\n",
      "AUROC: 0.8933739261246474\n",
      "\n",
      "F1-Score: 0.902468828973133\n",
      "\n",
      "Matriz de Confusão:\n"
     ]
    },
    {
     "data": {
      "image/png": "[encoded data removed]",
      "text/plain": [
       "<Figure size 432x288 with 2 Axes>"
      ]
     },
     "metadata": {
      "needs_background": "light"
     },
     "output_type": "display_data"
    }
   ],
   "source": [
    "mostra_metricas(y2_test, y2_reglog_pred)"
   ]
  },
  {
   "cell_type": "markdown",
   "metadata": {},
   "source": [
    "#### A diferença do desempenho entre os dois modelos de feature extraction foi bem pouca, mas os resultados das métricas apontam que foi melhor com o TF-IDF."
   ]
  },
  {
   "cell_type": "markdown",
   "metadata": {},
   "source": [
    "## Naive Bayes Multinomial"
   ]
  },
  {
   "cell_type": "markdown",
   "metadata": {},
   "source": [
    "### BoW"
   ]
  },
  {
   "cell_type": "code",
   "execution_count": 32,
   "metadata": {},
   "outputs": [],
   "source": [
    "from sklearn.naive_bayes import MultinomialNB"
   ]
  },
  {
   "cell_type": "code",
   "execution_count": 33,
   "metadata": {},
   "outputs": [],
   "source": [
    "nb1 = MultinomialNB()"
   ]
  },
  {
   "cell_type": "code",
   "execution_count": 34,
   "metadata": {},
   "outputs": [
    {
     "data": {
      "text/plain": [
       "MultinomialNB()"
      ]
     },
     "execution_count": 34,
     "metadata": {},
     "output_type": "execute_result"
    }
   ],
   "source": [
    "nb1.fit(X1_train.toarray(), y1_train)"
   ]
  },
  {
   "cell_type": "code",
   "execution_count": 35,
   "metadata": {},
   "outputs": [],
   "source": [
    "y1_gnb_pred = nb1.predict(X1_test.toarray())"
   ]
  },
  {
   "cell_type": "code",
   "execution_count": 36,
   "metadata": {},
   "outputs": [
    {
     "name": "stdout",
     "output_type": "stream",
     "text": [
      "Acurácia: 0.8901927261423687\n",
      "\n",
      "AUROC: 0.8840171316798539\n",
      "\n",
      "F1-Score: 0.8906136689731637\n",
      "\n",
      "Matriz de Confusão:\n"
     ]
    },
    {
     "data": {
      "image/png": "[encoded data removed]",
      "text/plain": [
       "<Figure size 432x288 with 2 Axes>"
      ]
     },
     "metadata": {
      "needs_background": "light"
     },
     "output_type": "display_data"
    }
   ],
   "source": [
    "mostra_metricas(y1_test, y1_gnb_pred)"
   ]
  },
  {
   "cell_type": "markdown",
   "metadata": {},
   "source": [
    "### TF-IDF"
   ]
  },
  {
   "cell_type": "code",
   "execution_count": 37,
   "metadata": {},
   "outputs": [],
   "source": [
    "nb2 = MultinomialNB()"
   ]
  },
  {
   "cell_type": "code",
   "execution_count": 38,
   "metadata": {},
   "outputs": [
    {
     "data": {
      "text/plain": [
       "MultinomialNB()"
      ]
     },
     "execution_count": 38,
     "metadata": {},
     "output_type": "execute_result"
    }
   ],
   "source": [
    "nb2.fit(X2_train.toarray(), y2_train)"
   ]
  },
  {
   "cell_type": "code",
   "execution_count": 39,
   "metadata": {},
   "outputs": [],
   "source": [
    "y2_gnb_pred = nb2.predict(X2_test.toarray())"
   ]
  },
  {
   "cell_type": "code",
   "execution_count": 40,
   "metadata": {},
   "outputs": [
    {
     "name": "stdout",
     "output_type": "stream",
     "text": [
      "Acurácia: 0.8901150139881877\n",
      "\n",
      "AUROC: 0.8825197282502492\n",
      "\n",
      "F1-Score: 0.8903940519280684\n",
      "\n",
      "Matriz de Confusão:\n"
     ]
    },
    {
     "data": {
      "image/png": "[encoded data removed]",
      "text/plain": [
       "<Figure size 432x288 with 2 Axes>"
      ]
     },
     "metadata": {
      "needs_background": "light"
     },
     "output_type": "display_data"
    }
   ],
   "source": [
    "mostra_metricas(y2_test, y2_gnb_pred)"
   ]
  },
  {
   "cell_type": "markdown",
   "metadata": {},
   "source": [
    "## Random Forest"
   ]
  },
  {
   "cell_type": "code",
   "execution_count": 41,
   "metadata": {},
   "outputs": [],
   "source": [
    "from sklearn.ensemble import RandomForestClassifier"
   ]
  },
  {
   "cell_type": "markdown",
   "metadata": {},
   "source": [
    "### BoW"
   ]
  },
  {
   "cell_type": "code",
   "execution_count": 42,
   "metadata": {},
   "outputs": [],
   "source": [
    "rf1 = RandomForestClassifier()"
   ]
  },
  {
   "cell_type": "code",
   "execution_count": 43,
   "metadata": {},
   "outputs": [
    {
     "data": {
      "text/plain": [
       "RandomForestClassifier()"
      ]
     },
     "execution_count": 43,
     "metadata": {},
     "output_type": "execute_result"
    }
   ],
   "source": [
    "rf1.fit(X1_train, y1_train)"
   ]
  },
  {
   "cell_type": "code",
   "execution_count": 44,
   "metadata": {},
   "outputs": [],
   "source": [
    "y1_dt_pred = rf1.predict(X1_test)"
   ]
  },
  {
   "cell_type": "code",
   "execution_count": 45,
   "metadata": {},
   "outputs": [
    {
     "name": "stdout",
     "output_type": "stream",
     "text": [
      "Acurácia: 0.8976530929437364\n",
      "\n",
      "AUROC: 0.8903377707951847\n",
      "\n",
      "F1-Score: 0.8978725035515813\n",
      "\n",
      "Matriz de Confusão:\n"
     ]
    },
    {
     "data": {
      "image/png": "[encoded data removed]",
      "text/plain": [
       "<Figure size 432x288 with 2 Axes>"
      ]
     },
     "metadata": {
      "needs_background": "light"
     },
     "output_type": "display_data"
    }
   ],
   "source": [
    "mostra_metricas(y1_test, y1_dt_pred)"
   ]
  },
  {
   "cell_type": "code",
   "execution_count": 46,
   "metadata": {},
   "outputs": [],
   "source": [
    "rf2 = RandomForestClassifier()"
   ]
  },
  {
   "cell_type": "code",
   "execution_count": 47,
   "metadata": {},
   "outputs": [
    {
     "data": {
      "text/plain": [
       "RandomForestClassifier()"
      ]
     },
     "execution_count": 47,
     "metadata": {},
     "output_type": "execute_result"
    }
   ],
   "source": [
    "rf2.fit(X2_train, y2_train)"
   ]
  },
  {
   "cell_type": "code",
   "execution_count": 48,
   "metadata": {},
   "outputs": [],
   "source": [
    "y2_dt_pred = rf2.predict(X2_test)"
   ]
  },
  {
   "cell_type": "code",
   "execution_count": 49,
   "metadata": {},
   "outputs": [
    {
     "name": "stdout",
     "output_type": "stream",
     "text": [
      "Acurácia: 0.8937674852346907\n",
      "\n",
      "AUROC: 0.8882713506298261\n",
      "\n",
      "F1-Score: 0.8942076885722141\n",
      "\n",
      "Matriz de Confusão:\n"
     ]
    },
    {
     "data": {
      "image/png": "[encoded data removed]",
      "text/plain": [
       "<Figure size 432x288 with 2 Axes>"
      ]
     },
     "metadata": {
      "needs_background": "light"
     },
     "output_type": "display_data"
    }
   ],
   "source": [
    "mostra_metricas(y2_test, y2_dt_pred)"
   ]
  },
  {
   "cell_type": "markdown",
   "metadata": {},
   "source": [
    "## Resultados"
   ]
  },
  {
   "cell_type": "markdown",
   "metadata": {},
   "source": [
    "#### Para todos os modelos, a diferença entre usar o Bag of Wors ou TF-IDF foi bem pouca. Os modelos apresentaram melhores rmétricas com TF-IDF, com exceção do Naive Bayes. O mehor modelo foi a Regressão Logística (com TF-IDF), com acurácia e F1 de 90% e AUROC de 89% (arredondando). Vamos testá-lo com um novo texto.\n"
   ]
  },
  {
   "cell_type": "code",
   "execution_count": 50,
   "metadata": {},
   "outputs": [],
   "source": [
    "def nova_predicao(texto):\n",
    "    '''\n",
    "    Função que recebe uma string e printa a predição feita pelo modelo reglog2\n",
    "    '''\n",
    "    texto_vetorizado = tfidf_vect.transform([texto])\n",
    "    pred = reglog2.predict(texto_vetorizado)\n",
    "    \n",
    "    if pred ==0:\n",
    "        print(\"Essa é uma review negativa\")\n",
    "    else:\n",
    "        print(\"Essa é uma review positiva\")\n",
    "        "
   ]
  },
  {
   "cell_type": "code",
   "execution_count": 51,
   "metadata": {},
   "outputs": [
    {
     "name": "stdout",
     "output_type": "stream",
     "text": [
      "Essa é uma review negativa\n"
     ]
    }
   ],
   "source": [
    "nova_predicao(\"Demorou muito não gostei\")"
   ]
  },
  {
   "cell_type": "code",
   "execution_count": 52,
   "metadata": {},
   "outputs": [
    {
     "name": "stdout",
     "output_type": "stream",
     "text": [
      "Essa é uma review positiva\n"
     ]
    }
   ],
   "source": [
    "nova_predicao(\"Achei cheirosinho\")"
   ]
  },
  {
   "cell_type": "code",
   "execution_count": 53,
   "metadata": {},
   "outputs": [
    {
     "name": "stdout",
     "output_type": "stream",
     "text": [
      "Essa é uma review negativa\n"
     ]
    }
   ],
   "source": [
    "nova_predicao(\"Nossa que produto ruim é esse parece que encontrei no lixo\")"
   ]
  },
  {
   "cell_type": "code",
   "execution_count": 54,
   "metadata": {},
   "outputs": [
    {
     "name": "stdout",
     "output_type": "stream",
     "text": [
      "Essa é uma review positiva\n"
     ]
    }
   ],
   "source": [
    "nova_predicao(\"Gostei\")"
   ]
  },
  {
   "cell_type": "code",
   "execution_count": 55,
   "metadata": {},
   "outputs": [
    {
     "name": "stdout",
     "output_type": "stream",
     "text": [
      "Essa é uma review negativa\n"
     ]
    }
   ],
   "source": [
    "nova_predicao(\"Não gostei\")"
   ]
  },
  {
   "cell_type": "code",
   "execution_count": 60,
   "metadata": {},
   "outputs": [
    {
     "name": "stdout",
     "output_type": "stream",
     "text": [
      "Essa é uma review negativa\n"
     ]
    }
   ],
   "source": [
    "nova_predicao(\"Lugar ruim\")"
   ]
  }
 ],
 "metadata": {
  "kernelspec": {
   "display_name": "Python 3",
   "language": "python",
   "name": "python3"
  },
  "language_info": {
   "codemirror_mode": {
    "name": "ipython",
    "version": 3
   },
   "file_extension": ".py",
   "mimetype": "text/x-python",
   "name": "python",
   "nbconvert_exporter": "python",
   "pygments_lexer": "ipython3",
   "version": "3.8.5"
  }
 },
 "nbformat": 4,
 "nbformat_minor": 4
}
